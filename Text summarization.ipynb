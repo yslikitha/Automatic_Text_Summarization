{
 "cells": [
  {
   "cell_type": "code",
   "execution_count": 8,
   "id": "4009454b",
   "metadata": {},
   "outputs": [
    {
     "name": "stdout",
     "output_type": "stream",
     "text": [
      "Requirement already satisfied: networkx in d:\\dprogramfiles\\anaconda_new\\envs\\python11\\lib\\site-packages (3.1)\n"
     ]
    }
   ],
   "source": [
    "!pip install networkx"
   ]
  },
  {
   "cell_type": "code",
   "execution_count": 9,
   "id": "c52733a2",
   "metadata": {},
   "outputs": [
    {
     "name": "stderr",
     "output_type": "stream",
     "text": [
      "[nltk_data] Downloading package stopwords to\n",
      "[nltk_data]     C:\\Users\\HP\\AppData\\Roaming\\nltk_data...\n",
      "[nltk_data]   Package stopwords is already up-to-date!\n"
     ]
    },
    {
     "data": {
      "text/plain": [
       "True"
      ]
     },
     "execution_count": 9,
     "metadata": {},
     "output_type": "execute_result"
    }
   ],
   "source": [
    "import nltk\n",
    "\n",
    "nltk.download('stopwords')\n"
   ]
  },
  {
   "cell_type": "code",
   "execution_count": 14,
   "id": "90df147e",
   "metadata": {},
   "outputs": [
    {
     "name": "stdout",
     "output_type": "stream",
     "text": [
      "police said convoy stopped mr gandhi security mr venugopal tweeted mr gandhi visit tuesday said state burning nearly two months desperately needs healing touch society move conflict peace india opposition leader rahul gandhi met people affected violence engulfed state manipur soon senior congress leader kc venugopal told reporters mr gandhi convoy stopped police near bishnupur district way churachandpur town visit relief camps mr gandhi trip state also visited relief camp churachandpur district thursday congress mp jairam ramesh said mr gandhi visit state spirit bharat jodo yatra long unity march across country mr gandhi scheduled meet leaders civil society groups friday state capital imphal mr gandhi visit comes amid opposition demand resignation state chief minister n biren singh bjp mr venugopal said congress leaders criticised mr singh able restore peace normalcy state asked federal rule imposed however bjp leaders criticised timing mr gandhi visit calling politically motivated prime minister narendra modi met top government officials review situation manipur criticised visiting state commenting situation arriving imphal thursday morning mr gandhi shared facebook post saying restoration peace top priority congress party president mallikarjun kharge accused bharatiya janata party bjp government using autocratic methods stall compassionate outreach mr gandhi friday congress leader visited relief camps moirang town met displaced families party said\n"
     ]
    }
   ],
   "source": [
    "from nltk.corpus import stopwords\n",
    "from nltk.cluster.util import cosine_distance\n",
    "import numpy as np\n",
    "import networkx as nx\n",
    "import pandas as pd\n",
    "\n",
    "# Function to preprocess the text\n",
    "def preprocess_text(text):\n",
    "    # Tokenize the text into sentences\n",
    "    sentences = nltk.sent_tokenize(text)\n",
    "    \n",
    "    # Tokenize the sentences into words and remove punctuation\n",
    "    word_tokens = [nltk.word_tokenize(sentence) for sentence in sentences]\n",
    "    word_tokens = [[word.lower() for word in token if word.isalnum()] for token in word_tokens]\n",
    "    \n",
    "    # Remove stopwords\n",
    "    stop_words = set(stopwords.words(\"english\"))\n",
    "    word_tokens = [[word for word in token if word not in stop_words] for token in word_tokens]\n",
    "    \n",
    "    return word_tokens\n",
    "\n",
    "# Function to calculate sentence similarity using cosine distance\n",
    "def sentence_similarity(sentence1, sentence2):\n",
    "    sentence1 = [word.lower() for word in sentence1]\n",
    "    sentence2 = [word.lower() for word in sentence2]\n",
    "    all_words = list(set(sentence1 + sentence2))\n",
    "    \n",
    "    vector1 = [0] * len(all_words)\n",
    "    vector2 = [0] * len(all_words)\n",
    "    \n",
    "    # Create vectors representing sentence word frequency\n",
    "    for word in sentence1:\n",
    "        vector1[all_words.index(word)] += 1\n",
    "    \n",
    "    for word in sentence2:\n",
    "        vector2[all_words.index(word)] += 1\n",
    "    \n",
    "    return 1 - cosine_distance(vector1, vector2)\n",
    "\n",
    "# Function to generate the summary\n",
    "# Function to generate the summary\n",
    "def generate_summary(text, num_sentences=3):\n",
    "    # Preprocess the text\n",
    "    sentences = preprocess_text(text)\n",
    "    \n",
    "    # Create sentence similarity matrix\n",
    "    similarity_matrix = np.zeros((len(sentences), len(sentences)))\n",
    "    for i in range(len(sentences)):\n",
    "        for j in range(len(sentences)):\n",
    "            if i != j:\n",
    "                similarity_matrix[i][j] = sentence_similarity(sentences[i], sentences[j])\n",
    "    \n",
    "    # Apply PageRank algorithm to rank sentences\n",
    "    nx_graph = nx.from_numpy_array(similarity_matrix)\n",
    "    scores = nx.pagerank(nx_graph)\n",
    "    \n",
    "    # Sort sentences based on their scores\n",
    "    ranked_sentences = sorted(((scores[i], \" \".join(sentence)) for i, sentence in enumerate(sentences)), reverse=True)\n",
    "    \n",
    "    # Select the top sentences for the summary\n",
    "    summary_sentences = [sentence for _, sentence in ranked_sentences[:num_sentences]]\n",
    "    summary = \" \".join(summary_sentences)\n",
    "    \n",
    "    return summary\n",
    "\n",
    "\n",
    "# Input text to be summarized\n",
    "with open('D:/Data Science/Practise/NLP/bbc_rahul.txt', 'r') as file:\n",
    "    input_text = file.read()\n",
    "\n",
    "\n",
    "# Generate the summary\n",
    "summary = generate_summary(input_text, num_sentences=15)\n",
    "\n",
    "# Print the generated summary\n",
    "print(summary)\n"
   ]
  },
  {
   "cell_type": "code",
   "execution_count": null,
   "id": "3be27199",
   "metadata": {},
   "outputs": [],
   "source": []
  },
  {
   "cell_type": "code",
   "execution_count": null,
   "id": "87692561",
   "metadata": {},
   "outputs": [],
   "source": []
  }
 ],
 "metadata": {
  "kernelspec": {
   "display_name": "Python 3 (ipykernel)",
   "language": "python",
   "name": "python3"
  },
  "language_info": {
   "codemirror_mode": {
    "name": "ipython",
    "version": 3
   },
   "file_extension": ".py",
   "mimetype": "text/x-python",
   "name": "python",
   "nbconvert_exporter": "python",
   "pygments_lexer": "ipython3",
   "version": "3.11.3"
  }
 },
 "nbformat": 4,
 "nbformat_minor": 5
}
